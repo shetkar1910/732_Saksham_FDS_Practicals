{
 "cells": [
  {
   "cell_type": "markdown",
   "metadata": {},
   "source": [
    "<h2 style=\"color:green\">Probability</h2>"
   ]
  },
  {
   "cell_type": "code",
   "execution_count": 1,
   "metadata": {},
   "outputs": [
    {
     "name": "stdout",
     "output_type": "stream",
     "text": [
      "Probability of getting 3 is :  0.16666666666666666\n"
     ]
    }
   ],
   "source": [
    "# Example : 1\n",
    "\n",
    "# Prob of getting 3 when die is rolled\n",
    "# Ans :p = 1/6\n",
    "\n",
    "# n(s) = {1,2,3,4,5,6}\n",
    "ns = 6\n",
    "\n",
    "# n(A) = getting 3 = {3}\n",
    "na = 1\n",
    "\n",
    "# P(A)\n",
    "pa = na/ns\n",
    "\n",
    "print(\"Probability of getting 3 is : \", pa)"
   ]
  },
  {
   "cell_type": "code",
   "execution_count": 3,
   "metadata": {},
   "outputs": [
    {
     "name": "stdout",
     "output_type": "stream",
     "text": [
      "Probability of getting atleast one head when a coin is tossed is :  0.875\n"
     ]
    }
   ],
   "source": [
    "# Example : 2\n",
    "\n",
    "# prob of atleast getting one head when a coin is tossed thrice\n",
    "\n",
    "# S = {HHH,HHT,HTH,THH,TTT,TTH,THT,HTT}\n",
    "ns = 8\n",
    "\n",
    "# atleast getting one head A = {HHH,HHT,HTH,THH,TTH,THT,HTT}\n",
    "na = 7\n",
    "\n",
    "# p(A)\n",
    "pa = na/ns\n",
    "\n",
    "print(\"Probability of getting atleast one head when a coin is tossed is : \",pa)"
   ]
  },
  {
   "cell_type": "code",
   "execution_count": 4,
   "metadata": {},
   "outputs": [
    {
     "name": "stdout",
     "output_type": "stream",
     "text": [
      "Prob of the jelly bean is not blue is :  0.7\n"
     ]
    }
   ],
   "source": [
    "# Example : 3\n",
    "\n",
    "# A glass jar contains 5 red , 3 blue and 2 green jelly beans , what is the prob that it is not blue?\n",
    "\n",
    "# S = {r1,r2,r3,r4,r5,b1,b2,b3,g1,g2}\n",
    "ns = 10\n",
    "\n",
    "# A = it is not blue = {r1,r2,r3,r4,r5,g1,g2}\n",
    "# n(A) = (1 - 3/10)\n",
    "na = 7\n",
    "\n",
    "# p(A)\n",
    "pa = na/ns\n",
    "\n",
    "print(\"Prob of the jelly bean is not blue is : \",pa)"
   ]
  },
  {
   "cell_type": "code",
   "execution_count": 5,
   "metadata": {},
   "outputs": [
    {
     "name": "stdout",
     "output_type": "stream",
     "text": [
      "Prob that they both will be alive in 20 years is :  0.35\n"
     ]
    }
   ],
   "source": [
    "# Example : 4\n",
    "\n",
    "# If the probability that person A will be alive in 20 years is 0.7\n",
    "# and the prob of person B will be alive in 20 years is 0.5\n",
    "# what is the prob that they both will be alive in 20 years ? \n",
    "\n",
    "# These are Independent events , so\n",
    "\n",
    "P = 0.7 * 0.5\n",
    "\n",
    "print(\"Prob that they both will be alive in 20 years is : \",P)"
   ]
  },
  {
   "cell_type": "code",
   "execution_count": 6,
   "metadata": {},
   "outputs": [],
   "source": [
    "# formula of prob lets make it func so we dont need to type again n again\n",
    "\n",
    "def event_probability(n,s):\n",
    "    return n/s"
   ]
  },
  {
   "cell_type": "code",
   "execution_count": 7,
   "metadata": {},
   "outputs": [
    {
     "name": "stdout",
     "output_type": "stream",
     "text": [
      "probability of getting  a 4 or 5 on the first toss and a 1,2 or 3 in the second toss is :  0.16666666666666666\n"
     ]
    }
   ],
   "source": [
    "# Example : 5\n",
    "\n",
    "# A die is tossed twice, Find the probability of getting  a 4 or 5 on the first toss\n",
    "# and a 1,2 or 3 in the second toss\n",
    "\n",
    "# using my func\n",
    "\n",
    "# probability of getting  a 4 or 5 on the first toss, 2 event total sample is 6\n",
    "pa = event_probability(2,6)  \n",
    "\n",
    "# probability of getting  a 1,2 or 3 on the second toss ,3 event total sample is 6\n",
    "pb = event_probability(3,6)\n",
    "\n",
    "# total prob of both will be \n",
    "P = pa * pb   \n",
    "\n",
    "print(\"Probability of getting  a 4 or 5 on the first toss and a 1,2 or 3 in the second toss is : \", P)"
   ]
  },
  {
   "cell_type": "code",
   "execution_count": 8,
   "metadata": {},
   "outputs": [
    {
     "name": "stdout",
     "output_type": "stream",
     "text": [
      "the probability of obtaining white , black and green in order is :  0.1736111111111111\n"
     ]
    }
   ],
   "source": [
    "# Example : 6\n",
    "\n",
    "# A bag contains 5 white marbles , 3 black marbles and 2 green marbles,\n",
    "# In each draw, a marble is drawn from the bag and not repaced.\n",
    "# In three draws , find the probability of obtaining white , black and green in that order.\n",
    "\n",
    "# s = { 5 white , 3 black , 2 green}\n",
    "ns = 10\n",
    "\n",
    "# event 1 {getting white}\n",
    "na = 5\n",
    "pa = event_probability(na, 10)\n",
    "\n",
    "# event 2 {getting black} without putting previous ball\n",
    "nb = 3\n",
    "pb = event_probability(na, 9)\n",
    "\n",
    "# event 3 {getting green}\n",
    "nc = 2\n",
    "pc = event_probability(na, 8 )\n",
    "\n",
    "P = pa * pb * pc\n",
    "\n",
    "print(\"the probability of obtaining white , black and green in order is : \",P)"
   ]
  },
  {
   "cell_type": "code",
   "execution_count": 9,
   "metadata": {},
   "outputs": [
    {
     "name": "stdout",
     "output_type": "stream",
     "text": [
      "Probability of drawing a heart or a club is :  0.5\n"
     ]
    }
   ],
   "source": [
    "# Example : 7\n",
    "\n",
    "# Sample space\n",
    "cards = 52\n",
    "\n",
    "# calculate the probability of drawing a heart or a club\n",
    "\n",
    "hearts = 13\n",
    "clubs = 13\n",
    "\n",
    "# 13/52 + 13/52\n",
    "heart_or_club = event_probability(hearts, cards) + event_probability(clubs, cards)\n",
    "\n",
    "print(\"Probability of drawing a heart or a club is : \",heart_or_club)"
   ]
  },
  {
   "cell_type": "code",
   "execution_count": 17,
   "metadata": {},
   "outputs": [
    {
     "name": "stdout",
     "output_type": "stream",
     "text": [
      "the probability of drawing an ace , king or a queen is :  0.23076923076923078\n",
      "0.23\n"
     ]
    }
   ],
   "source": [
    "# Example : 8\n",
    "\n",
    "# calculate the probability of drawing an ace , king or a queen\n",
    "\n",
    "# The probability of first drawing an Ace is  4/52. \n",
    "ace = 4\n",
    "\n",
    "# The probability of  drawing  a King is  4/52\n",
    "king = 4\n",
    "\n",
    "# The probability of drawing a Queen is  4/52\n",
    "queen = 4\n",
    "\n",
    "ace_or_king_or_queen = event_probability(ace, cards) + event_probability(king, cards) + event_probability(queen , cards)\n",
    "\n",
    "print(\"the probability of drawing an ace , king or a queen is : \", ace_or_king_or_queen)\n",
    "\n",
    "print(round(ace_or_king_or_queen, 2))"
   ]
  },
  {
   "cell_type": "code",
   "execution_count": 16,
   "metadata": {},
   "outputs": [
    {
     "name": "stdout",
     "output_type": "stream",
     "text": [
      "the probability of drawing a heart or an ace is :  0.3\n"
     ]
    }
   ],
   "source": [
    "# Example : 9\n",
    "\n",
    "# calculate the probability of drawing a heart or an ace\n",
    "\n",
    "# The probability of first drawing an Heart is  13/52. \n",
    "heart = 13\n",
    "\n",
    "# The probability of first drawing an Ace is  4/52. \n",
    "ace = 4\n",
    "\n",
    "# but there is card of heart Ace\n",
    "ace_of_hearts = 1\n",
    "\n",
    "heart_or_ace = event_probability(heart, cards) + event_probability(ace ,cards) - event_probability(ace_of_hearts, cards)\n",
    "\n",
    "print(\"the probability of drawing a heart or an ace is : \",round(heart_or_ace, 1))\n",
    "\n",
    "# round(heart_or_ace, 1)\n",
    "# 1 = 1 element after decimal"
   ]
  },
  {
   "cell_type": "code",
   "execution_count": 18,
   "metadata": {},
   "outputs": [
    {
     "name": "stdout",
     "output_type": "stream",
     "text": [
      "the probability of drawing a red cards or face cards is :  0.62\n"
     ]
    }
   ],
   "source": [
    "# Example : 10\n",
    "\n",
    "# calculate the probability of drawing a red cards or face cards\n",
    "\n",
    "# 13 heart + 13 dimond\n",
    "red = 26\n",
    "\n",
    "# king+queen+j of each set of 4 which is 3 * 4 = 12\n",
    "face_card = 12\n",
    "\n",
    "# but there is red face cards (3 heart + 3 dimond)\n",
    "red_face = 6\n",
    "\n",
    "red_or_face = event_probability(red, cards) + event_probability(face_card, cards) - event_probability(red_face, cards)\n",
    "\n",
    "print(\"the probability of drawing a red cards or face cards is : \", round(red_or_face, 2))\n",
    "\n",
    "# round(red_or_face, 2)\n",
    "# 2 elements after decimal"
   ]
  },
  {
   "cell_type": "code",
   "execution_count": 22,
   "metadata": {},
   "outputs": [
    {
     "name": "stdout",
     "output_type": "stream",
     "text": [
      " Prob of not gettig 5 is :  0.83\n",
      " Prob of not gettig 5 is :  0.83\n"
     ]
    }
   ],
   "source": [
    "# Example : 11\n",
    "\n",
    "# Prob of not gettig 5 when die is rolled.\n",
    "\n",
    "# S = {1,2,3,4,5,6}\n",
    "ns = 6\n",
    "\n",
    "# getting 5\n",
    "na = 1\n",
    "\n",
    "pa = event_probability(na,ns)\n",
    "\n",
    "\n",
    "print(\" Prob of not gettig 5 is : \", round(1- event_probability(na,ns), 2))\n",
    "\n",
    "# both the ways are same\n",
    "# Prob of not gettig 5 is 1 - prob of getting 5\n",
    "print(\" Prob of not gettig 5 is : \", round(1- pa, 2))"
   ]
  },
  {
   "cell_type": "markdown",
   "metadata": {},
   "source": [
    "<h2 style=\"color:orange\">Conditional Probability</h2>"
   ]
  },
  {
   "cell_type": "code",
   "execution_count": 26,
   "metadata": {},
   "outputs": [
    {
     "name": "stdout",
     "output_type": "stream",
     "text": [
      "0.08\n",
      "0.0784313725490196\n"
     ]
    }
   ],
   "source": [
    "# Example : 12 (Conditional Probability)\n",
    "\n",
    "# Suppose you draw 2 cards from deck.\n",
    "# You win if you get ace given that you draw a jack in first draw\n",
    "\n",
    "cards =52\n",
    "\n",
    "\n",
    "j = 4\n",
    "ace = 4\n",
    "\n",
    "# prob of jack in first draw\n",
    "pj = event_probability(j, cards)\n",
    "\n",
    "# prob of ace in second draw and not putting previous card\n",
    "pa = event_probability(ace, 51)\n",
    "\n",
    "# Formula of conditional probability\n",
    "\n",
    "pa_given_pj = (pa * pj)/pj\n",
    "\n",
    "print(round(pa_given_pj, 2))\n",
    "print(pa_given_pj)"
   ]
  },
  {
   "cell_type": "markdown",
   "metadata": {},
   "source": [
    "<h4 style=\"color:red\">Reading CSV data and solving problems on Conditional Probability.</h4>"
   ]
  },
  {
   "cell_type": "code",
   "execution_count": 2,
   "metadata": {},
   "outputs": [
    {
     "data": {
      "text/html": [
       "<div>\n",
       "<style scoped>\n",
       "    .dataframe tbody tr th:only-of-type {\n",
       "        vertical-align: middle;\n",
       "    }\n",
       "\n",
       "    .dataframe tbody tr th {\n",
       "        vertical-align: top;\n",
       "    }\n",
       "\n",
       "    .dataframe thead th {\n",
       "        text-align: right;\n",
       "    }\n",
       "</style>\n",
       "<table border=\"1\" class=\"dataframe\">\n",
       "  <thead>\n",
       "    <tr style=\"text-align: right;\">\n",
       "      <th></th>\n",
       "      <th>school</th>\n",
       "      <th>sex</th>\n",
       "      <th>age</th>\n",
       "      <th>address</th>\n",
       "      <th>famsize</th>\n",
       "      <th>Pstatus</th>\n",
       "      <th>Medu</th>\n",
       "      <th>Fedu</th>\n",
       "      <th>Mjob</th>\n",
       "      <th>Fjob</th>\n",
       "      <th>...</th>\n",
       "      <th>famrel</th>\n",
       "      <th>freetime</th>\n",
       "      <th>goout</th>\n",
       "      <th>Dalc</th>\n",
       "      <th>Walc</th>\n",
       "      <th>health</th>\n",
       "      <th>absences</th>\n",
       "      <th>G1</th>\n",
       "      <th>G2</th>\n",
       "      <th>G3</th>\n",
       "    </tr>\n",
       "  </thead>\n",
       "  <tbody>\n",
       "    <tr>\n",
       "      <th>0</th>\n",
       "      <td>GP</td>\n",
       "      <td>F</td>\n",
       "      <td>18</td>\n",
       "      <td>U</td>\n",
       "      <td>GT3</td>\n",
       "      <td>A</td>\n",
       "      <td>4</td>\n",
       "      <td>4</td>\n",
       "      <td>at_home</td>\n",
       "      <td>teacher</td>\n",
       "      <td>...</td>\n",
       "      <td>4</td>\n",
       "      <td>3</td>\n",
       "      <td>4</td>\n",
       "      <td>1</td>\n",
       "      <td>1</td>\n",
       "      <td>3</td>\n",
       "      <td>6</td>\n",
       "      <td>5</td>\n",
       "      <td>6</td>\n",
       "      <td>6</td>\n",
       "    </tr>\n",
       "    <tr>\n",
       "      <th>1</th>\n",
       "      <td>GP</td>\n",
       "      <td>F</td>\n",
       "      <td>17</td>\n",
       "      <td>U</td>\n",
       "      <td>GT3</td>\n",
       "      <td>T</td>\n",
       "      <td>1</td>\n",
       "      <td>1</td>\n",
       "      <td>at_home</td>\n",
       "      <td>other</td>\n",
       "      <td>...</td>\n",
       "      <td>5</td>\n",
       "      <td>3</td>\n",
       "      <td>3</td>\n",
       "      <td>1</td>\n",
       "      <td>1</td>\n",
       "      <td>3</td>\n",
       "      <td>4</td>\n",
       "      <td>5</td>\n",
       "      <td>5</td>\n",
       "      <td>6</td>\n",
       "    </tr>\n",
       "    <tr>\n",
       "      <th>2</th>\n",
       "      <td>GP</td>\n",
       "      <td>F</td>\n",
       "      <td>15</td>\n",
       "      <td>U</td>\n",
       "      <td>LE3</td>\n",
       "      <td>T</td>\n",
       "      <td>1</td>\n",
       "      <td>1</td>\n",
       "      <td>at_home</td>\n",
       "      <td>other</td>\n",
       "      <td>...</td>\n",
       "      <td>4</td>\n",
       "      <td>3</td>\n",
       "      <td>2</td>\n",
       "      <td>2</td>\n",
       "      <td>3</td>\n",
       "      <td>3</td>\n",
       "      <td>10</td>\n",
       "      <td>7</td>\n",
       "      <td>8</td>\n",
       "      <td>10</td>\n",
       "    </tr>\n",
       "    <tr>\n",
       "      <th>3</th>\n",
       "      <td>GP</td>\n",
       "      <td>F</td>\n",
       "      <td>15</td>\n",
       "      <td>U</td>\n",
       "      <td>GT3</td>\n",
       "      <td>T</td>\n",
       "      <td>4</td>\n",
       "      <td>2</td>\n",
       "      <td>health</td>\n",
       "      <td>services</td>\n",
       "      <td>...</td>\n",
       "      <td>3</td>\n",
       "      <td>2</td>\n",
       "      <td>2</td>\n",
       "      <td>1</td>\n",
       "      <td>1</td>\n",
       "      <td>5</td>\n",
       "      <td>2</td>\n",
       "      <td>15</td>\n",
       "      <td>14</td>\n",
       "      <td>15</td>\n",
       "    </tr>\n",
       "    <tr>\n",
       "      <th>4</th>\n",
       "      <td>GP</td>\n",
       "      <td>F</td>\n",
       "      <td>16</td>\n",
       "      <td>U</td>\n",
       "      <td>GT3</td>\n",
       "      <td>T</td>\n",
       "      <td>3</td>\n",
       "      <td>3</td>\n",
       "      <td>other</td>\n",
       "      <td>other</td>\n",
       "      <td>...</td>\n",
       "      <td>4</td>\n",
       "      <td>3</td>\n",
       "      <td>2</td>\n",
       "      <td>1</td>\n",
       "      <td>2</td>\n",
       "      <td>5</td>\n",
       "      <td>4</td>\n",
       "      <td>6</td>\n",
       "      <td>10</td>\n",
       "      <td>10</td>\n",
       "    </tr>\n",
       "  </tbody>\n",
       "</table>\n",
       "<p>5 rows × 33 columns</p>\n",
       "</div>"
      ],
      "text/plain": [
       "  school sex  age address famsize Pstatus  Medu  Fedu     Mjob      Fjob  ...  \\\n",
       "0     GP   F   18       U     GT3       A     4     4  at_home   teacher  ...   \n",
       "1     GP   F   17       U     GT3       T     1     1  at_home     other  ...   \n",
       "2     GP   F   15       U     LE3       T     1     1  at_home     other  ...   \n",
       "3     GP   F   15       U     GT3       T     4     2   health  services  ...   \n",
       "4     GP   F   16       U     GT3       T     3     3    other     other  ...   \n",
       "\n",
       "  famrel freetime  goout  Dalc  Walc health absences  G1  G2  G3  \n",
       "0      4        3      4     1     1      3        6   5   6   6  \n",
       "1      5        3      3     1     1      3        4   5   5   6  \n",
       "2      4        3      2     2     3      3       10   7   8  10  \n",
       "3      3        2      2     1     1      5        2  15  14  15  \n",
       "4      4        3      2     1     2      5        4   6  10  10  \n",
       "\n",
       "[5 rows x 33 columns]"
      ]
     },
     "execution_count": 2,
     "metadata": {},
     "output_type": "execute_result"
    }
   ],
   "source": [
    "import pandas as pd\n",
    "import numpy as np\n",
    "\n",
    "df = pd.read_csv(\"student-mat.csv\")\n",
    "df.head()"
   ]
  },
  {
   "cell_type": "code",
   "execution_count": 3,
   "metadata": {},
   "outputs": [
    {
     "data": {
      "text/plain": [
       "395"
      ]
     },
     "execution_count": 3,
     "metadata": {},
     "output_type": "execute_result"
    }
   ],
   "source": [
    "len(df)"
   ]
  },
  {
   "cell_type": "markdown",
   "metadata": {},
   "source": [
    "**Calculate the probabiltity A student gets A(80% +) in math, given they miss 10 or more classes.**\n",
    "\n",
    "We are concerned with the columns, absences (number of absences) and G3(final grade from 0 -20)\n",
    "\n",
    "Adding the boolean column called grade_A "
   ]
  },
  {
   "cell_type": "code",
   "execution_count": 4,
   "metadata": {},
   "outputs": [],
   "source": [
    "df['grade_A'] = np.where(df['G3'] * 5 >= 80 , 1, 0)"
   ]
  },
  {
   "cell_type": "markdown",
   "metadata": {},
   "source": [
    "**Make another boolean column \"high_absence\" with a value of 1 if a student missed 10 or more classes.**"
   ]
  },
  {
   "cell_type": "code",
   "execution_count": 5,
   "metadata": {},
   "outputs": [],
   "source": [
    "df['high_absences'] = np.where(df['absences'] >= 10 , 1 ,0)"
   ]
  },
  {
   "cell_type": "markdown",
   "metadata": {},
   "source": [
    "**Adding one more column to make building a pivot table easier**"
   ]
  },
  {
   "cell_type": "code",
   "execution_count": 6,
   "metadata": {},
   "outputs": [],
   "source": [
    "df['count'] = 1"
   ]
  },
  {
   "cell_type": "markdown",
   "metadata": {},
   "source": [
    "**And drop all columns we dont care about**"
   ]
  },
  {
   "cell_type": "code",
   "execution_count": 9,
   "metadata": {},
   "outputs": [
    {
     "data": {
      "text/html": [
       "<div>\n",
       "<style scoped>\n",
       "    .dataframe tbody tr th:only-of-type {\n",
       "        vertical-align: middle;\n",
       "    }\n",
       "\n",
       "    .dataframe tbody tr th {\n",
       "        vertical-align: top;\n",
       "    }\n",
       "\n",
       "    .dataframe thead th {\n",
       "        text-align: right;\n",
       "    }\n",
       "</style>\n",
       "<table border=\"1\" class=\"dataframe\">\n",
       "  <thead>\n",
       "    <tr style=\"text-align: right;\">\n",
       "      <th></th>\n",
       "      <th>grade_A</th>\n",
       "      <th>high_absences</th>\n",
       "      <th>count</th>\n",
       "    </tr>\n",
       "  </thead>\n",
       "  <tbody>\n",
       "    <tr>\n",
       "      <th>0</th>\n",
       "      <td>0</td>\n",
       "      <td>0</td>\n",
       "      <td>1</td>\n",
       "    </tr>\n",
       "    <tr>\n",
       "      <th>1</th>\n",
       "      <td>0</td>\n",
       "      <td>0</td>\n",
       "      <td>1</td>\n",
       "    </tr>\n",
       "    <tr>\n",
       "      <th>2</th>\n",
       "      <td>0</td>\n",
       "      <td>1</td>\n",
       "      <td>1</td>\n",
       "    </tr>\n",
       "    <tr>\n",
       "      <th>3</th>\n",
       "      <td>0</td>\n",
       "      <td>0</td>\n",
       "      <td>1</td>\n",
       "    </tr>\n",
       "    <tr>\n",
       "      <th>4</th>\n",
       "      <td>0</td>\n",
       "      <td>0</td>\n",
       "      <td>1</td>\n",
       "    </tr>\n",
       "  </tbody>\n",
       "</table>\n",
       "</div>"
      ],
      "text/plain": [
       "   grade_A  high_absences  count\n",
       "0        0              0      1\n",
       "1        0              0      1\n",
       "2        0              1      1\n",
       "3        0              0      1\n",
       "4        0              0      1"
      ]
     },
     "execution_count": 9,
     "metadata": {},
     "output_type": "execute_result"
    }
   ],
   "source": [
    "df = df[['grade_A', 'high_absences', 'count']]\n",
    "df.head()"
   ]
  },
  {
   "cell_type": "markdown",
   "metadata": {},
   "source": [
    "**Now we create a pivot table from this**"
   ]
  },
  {
   "cell_type": "code",
   "execution_count": 10,
   "metadata": {},
   "outputs": [],
   "source": [
    "final = pd.pivot_table(\n",
    "    df,\n",
    "    values = 'count',  #high_absences 0 = attdended lectures and 1 = high absences\n",
    "    index = ['grade_A'],  # getes Grade A = 1 , not getting A = 0\n",
    "    columns = ['high_absences'],\n",
    "    aggfunc = np.size,\n",
    "    fill_value = 0)"
   ]
  },
  {
   "cell_type": "code",
   "execution_count": 11,
   "metadata": {},
   "outputs": [
    {
     "name": "stdout",
     "output_type": "stream",
     "text": [
      "high_absences    0   1\n",
      "grade_A               \n",
      "0              277  78\n",
      "1               35   5\n"
     ]
    }
   ],
   "source": [
    "print(final)"
   ]
  },
  {
   "cell_type": "markdown",
   "metadata": {},
   "source": [
    "**A = getting high grades<br>\n",
    "B = hight absences**"
   ]
  },
  {
   "cell_type": "code",
   "execution_count": 24,
   "metadata": {},
   "outputs": [
    {
     "data": {
      "text/plain": [
       "0.10126582278481013"
      ]
     },
     "execution_count": 24,
     "metadata": {},
     "output_type": "execute_result"
    }
   ],
   "source": [
    "# pa = (35 + 5)/(35 + 5 + 277 + 78)\\\n",
    "\n",
    "# a = final.iloc[0,1]\n",
    "# a\n",
    "\n",
    "pa = (final.iloc[1,0] + final.iloc[1,1]) / (final.iloc[0,0] + final.iloc[0,1] + final.iloc[1,0] + final.iloc[1,1])\n",
    "pa"
   ]
  },
  {
   "cell_type": "code",
   "execution_count": 25,
   "metadata": {},
   "outputs": [
    {
     "data": {
      "text/plain": [
       "0.21012658227848102"
      ]
     },
     "execution_count": 25,
     "metadata": {},
     "output_type": "execute_result"
    }
   ],
   "source": [
    "# pb = (78 + 5)/(35 + 5 + 277 + 78)\n",
    "# pb\n",
    "\n",
    "pb = (final.iloc[0,1] + final.iloc[1,1]) / (final.iloc[0,0] + final.iloc[0,1] + final.iloc[1,0] + final.iloc[1,1])\n",
    "pb"
   ]
  },
  {
   "cell_type": "markdown",
   "metadata": {},
   "source": [
    "**pa_or_pb = Probability of getting Grade A with High absence**"
   ]
  },
  {
   "cell_type": "code",
   "execution_count": 26,
   "metadata": {},
   "outputs": [
    {
     "data": {
      "text/plain": [
       "0.012658227848101266"
      ]
     },
     "execution_count": 26,
     "metadata": {},
     "output_type": "execute_result"
    }
   ],
   "source": [
    "# pa_or_pb = 5 / (35 + 5 + 277 + 78)\n",
    "# pa_or_pb\n",
    "\n",
    "pa_or_pb = ( final.iloc[1,1]) / (final.iloc[0,0] + final.iloc[0,1] + final.iloc[1,0] + final.iloc[1,1])\n",
    "pa_or_pb"
   ]
  },
  {
   "cell_type": "markdown",
   "metadata": {},
   "source": [
    "**Formula of Probability of A given B = pa_or_pb/pb**"
   ]
  },
  {
   "cell_type": "code",
   "execution_count": 30,
   "metadata": {},
   "outputs": [
    {
     "data": {
      "text/plain": [
       "0.060240963855421686"
      ]
     },
     "execution_count": 30,
     "metadata": {},
     "output_type": "execute_result"
    }
   ],
   "source": [
    "A_given_B = pa_or_pb/pb\n",
    "A_given_B"
   ]
  },
  {
   "cell_type": "code",
   "execution_count": 32,
   "metadata": {},
   "outputs": [
    {
     "name": "stdout",
     "output_type": "stream",
     "text": [
      "The probabiltity of student gets A(80% +) in math, given they miss 10 or more classes is :  0.06\n"
     ]
    }
   ],
   "source": [
    "print(\"The probabiltity of student gets A(80% +) in math, given they miss 10 or more classes is : \",round(A_given_B, 2))"
   ]
  },
  {
   "cell_type": "code",
   "execution_count": 33,
   "metadata": {},
   "outputs": [
    {
     "name": "stdout",
     "output_type": "stream",
     "text": [
      "The Percent of student gets A(80% +) in math, given they miss 10 or more classes is :  6.0\n"
     ]
    }
   ],
   "source": [
    "print(\"The Percent of student gets A(80% +) in math, given they miss 10 or more classes is : \",round(A_given_B, 2) * 100)"
   ]
  },
  {
   "cell_type": "markdown",
   "metadata": {},
   "source": [
    "**While the learning from our specific-example is clear - go to class if you want good grades.**"
   ]
  },
  {
   "cell_type": "code",
   "execution_count": null,
   "metadata": {},
   "outputs": [],
   "source": []
  }
 ],
 "metadata": {
  "kernelspec": {
   "display_name": "Python 3",
   "language": "python",
   "name": "python3"
  },
  "language_info": {
   "codemirror_mode": {
    "name": "ipython",
    "version": 3
   },
   "file_extension": ".py",
   "mimetype": "text/x-python",
   "name": "python",
   "nbconvert_exporter": "python",
   "pygments_lexer": "ipython3",
   "version": "3.8.3"
  }
 },
 "nbformat": 4,
 "nbformat_minor": 4
}
