{
 "cells": [
  {
   "cell_type": "markdown",
   "metadata": {},
   "source": [
    "<h2 style=\"color:green\">Bayes' Law</h2>"
   ]
  },
  {
   "cell_type": "code",
   "execution_count": null,
   "metadata": {},
   "outputs": [],
   "source": [
    "# Question here"
   ]
  },
  {
   "cell_type": "code",
   "execution_count": 3,
   "metadata": {},
   "outputs": [
    {
     "name": "stdout",
     "output_type": "stream",
     "text": [
      "P(A|B) = 0.339%\n"
     ]
    }
   ],
   "source": [
    "# Cancer Result\n",
    "\n",
    "\n",
    "# Calculate P(A|B) given P(A) , P(B|A) , P(B|not A)\n",
    "\n",
    "def bayes_theorem(p_a, p_b_given_a , p_b_given_not_a):\n",
    "    \n",
    "#     calculate P(not A)\n",
    "    not_a = 1 - p_a\n",
    "    \n",
    "#     calculate P(B)\n",
    "    p_b = p_b_given_a * p_a + p_b_given_not_a * not_a\n",
    "    \n",
    "#     calculate P(A|B)\n",
    "    p_a_given_b = (p_b_given_a * p_a) / p_b\n",
    "    \n",
    "    return p_a_given_b\n",
    "\n",
    "# P(A)\n",
    "p_a = 0.0002\n",
    "\n",
    "# P(B|A)\n",
    "p_b_given_a = 0.85\n",
    "\n",
    "# P(B|not A)\n",
    "p_b_given_not_a = 0.05\n",
    "\n",
    "# calculate P(A|B)\n",
    "result = bayes_theorem(p_a, p_b_given_a , p_b_given_not_a)\n",
    "\n",
    "# summarize\n",
    "print('P(A|B) = %.3f%%' % (result * 100))\n",
    "\n",
    "    "
   ]
  },
  {
   "cell_type": "code",
   "execution_count": null,
   "metadata": {},
   "outputs": [],
   "source": [
    "# The calculation suggests that if\n",
    "# the patient is informed they have cancer with this test, then there is only 0.33% chance that they have cancer."
   ]
  }
 ],
 "metadata": {
  "kernelspec": {
   "display_name": "Python 3",
   "language": "python",
   "name": "python3"
  },
  "language_info": {
   "codemirror_mode": {
    "name": "ipython",
    "version": 3
   },
   "file_extension": ".py",
   "mimetype": "text/x-python",
   "name": "python",
   "nbconvert_exporter": "python",
   "pygments_lexer": "ipython3",
   "version": "3.8.3"
  }
 },
 "nbformat": 4,
 "nbformat_minor": 4
}
